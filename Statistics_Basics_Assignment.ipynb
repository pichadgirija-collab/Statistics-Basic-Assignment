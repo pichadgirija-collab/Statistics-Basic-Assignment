{
  "nbformat": 4,
  "nbformat_minor": 0,
  "metadata": {
    "colab": {
      "provenance": []
    },
    "kernelspec": {
      "name": "python3",
      "display_name": "Python 3"
    },
    "language_info": {
      "name": "python"
    }
  },
  "cells": [
    {
      "cell_type": "markdown",
      "source": [
        "* Name: Girija Pichad.\n",
        "* Email: pichadgirija@gmail.com\n",
        "* Assignment Name: Statistics Basic Assignment\n",
        "* Drive Link: N/A\n",
        "* GitHub Link:"
      ],
      "metadata": {
        "id": "6B2PFGd521R-"
      }
    },
    {
      "cell_type": "markdown",
      "source": [
        "#**1.  What is the difference between descriptive statistics and inferential statistics? Explain with examples.**\n",
        " There are two main branches in the field of statistics:\n",
        "\n",
        " 1. Descriptive Statistics\n",
        " 2. Inferential Statistics\n",
        "\n",
        "**Descriptive Statistics**\n",
        "\n",
        "* In a nutshell, descriptive statistics aims to describe a chunk of raw data using summary statistics, graphs, and tables.\n",
        "\n",
        "* Descriptive statistics are useful because they allow you to understand a group of data much more quickly and easily compared to just staring at rows and rows of raw data values.\n",
        "* **Example:** Suppose we have a set of raw data that shows the test scores of 1,000 students at a particular school. We might be interested in the average test score along with the distribution of test scores.\n",
        "* Using descriptive statistics, we could find the average score and create a graph that helps us visualize the distribution of scores.\n",
        "\n",
        "* This allows us to understand the test scores of the students much more easily compared to just staring at the raw data.\n",
        "\n",
        "**Common Forms of Descriptive Statistics**\n",
        "\n",
        "There are three common forms of descriptive statistics:\n",
        "\n",
        "1. Summary statistics. These are statistics that summarize the data using a single number. There are two popular types of summary statistics:\n",
        "\n",
        " * Measures of central tendency: these numbers describe where the center of a dataset is located. Examples include the mean and the median.\n",
        " * Measures of dispersion: these numbers describe how spread out the values are in the dataset. Examples include the range, interquartile range, standard deviation, and variance.\n",
        "2. Graphs. Graphs help us visualize data. Common types of graphs used to visualize data include boxplots, histograms, stem-and-leaf plots, and scatterplots.\n",
        "\n",
        "3. Tables. Tables can help us understand how data is distributed. One common type of table is a frequency table, which tells us how many data values fall within certain ranges.\n",
        "\n",
        "\n",
        "**Inferential Statistics**\n",
        "\n",
        "* In a nutshell, inferential statistics uses a small sample of data to draw inferences about the larger population that the sample came from.\n",
        "\n",
        "* **Example:** We might be interested in understanding the political preferences of millions of people in a country.However, it would take too long and be too expensive to actually survey every individual in the country. Thus, we would instead take a smaller survey of say, 1,000 Americans, and use the results of the survey to draw inferences about the population as a whole.\n",
        "\n",
        "* This is the whole premise behind inferential statistics – we want to answer some question about a population, so we obtain data for a small sample of that population and use the data from the sample to draw inferences about the population.\n",
        "\n",
        "**Common Forms of Inferential Statistics**\n",
        "\n",
        "There are three common forms of inferential statistics:\n",
        "\n",
        "1. Hypothesis Tests\n",
        "\n",
        "Often we’re interested in answering questions about a population such as:\n",
        "\n",
        "* Is the percentage of people in Ohio in support of candidate A higher than 50%?\n",
        "* Is the mean height of a certain plant equal to 14 inches?\n",
        "* Is there a difference between the mean height of students at School A compared to School B?\n",
        "\n",
        "To answer these questions we can perform a hypothesis test, which allows us to use data from a sample to draw conclusions about populations.\n",
        "\n",
        "2. Confidence Intervals\n",
        "\n",
        "Sometimes we’re interested in estimating some value for a population. For example, we might be interested in the mean height of a certain plant species in Australia.\n",
        "\n",
        "Instead of going around and measuring every single plant in the country, we might collect a small sample of plants and measure each one. Then, we can use the mean height of the plants in the sample to estimate the mean height for the population.\n",
        "\n",
        "However, our sample is unlikely to provide a perfect estimate for the population. Fortunately, we can account for this uncertainty by creating a confidence interval, which provides a range of values that we’re confident the true population parameter falls in.\n",
        "\n",
        "For example, we might produce a 95% confidence interval of [13.2, 14.8], which says we’re 95% confident that the true mean height of this plant species is between 13.2 inches and 14.8 inches.\n",
        "\n",
        "3. Regression\n",
        "\n",
        "Sometimes we’re interested in understanding the relationship between two variables in a population.\n",
        "\n",
        "For example, suppose we want to know if hours spent studying per week is related to test scores. To answer this question, we could perform a technique known as regression analysis.\n",
        "\n",
        "So, we may observe the number of hours studied along with the test scores for 100 students and perform a regression analysis to see if there is a significant relationship between the two variables.\n",
        "\n",
        "If the p-value of the regression turns out to be significant, then we can conclude that there is a significant relationship between these two variables in the overall population of students.\n",
        "\n",
        "**Difference between Descriptive and Inferential statistics**\n",
        "\n",
        "|Descriptive Statistics|Inferential Statistics|\n",
        "| -------------------- |----------------------|\n",
        "| It gives information about raw data which describes the data in some manner.| It makes inferences about the population using data drawn from the population.|\n",
        "| It helps in organizing, analyzing, and to present data in a meaningful manner.| It allows us to compare data, and make hypotheses and predictions. |\n",
        "| It is used to describe a situation. | It is used to explain the chance of occurrence of an event.  |\n",
        "| It explains already known data and is limited to a sample or population having a small size.| It attempts to reach the conclusion about the population.|\n",
        "| Examples include: mean, median, mode, range, variance, histograms, pie charts.| Examples include: confidence intervals, hypothesis testing, regression models, p-values.|\n",
        "| Limited to presenting and analyzing known data.| Allows predictions and conclusions that go beyond the data at hand.|\n",
        "| Used for describing trends, organizing data for presentation.| Used for predicting trends, testing hypotheses, generalizing data from sample to population.|\n",
        "| It can be achieved with the help of charts, graphs, tables, etc.| It can be achieved by probability.|\n",
        "\n",
        "\n",
        "\n"
      ],
      "metadata": {
        "id": "2JYgi-fnc91i"
      }
    },
    {
      "cell_type": "markdown",
      "source": [
        "#**2. What is sampling in statistics? Explain the differences between random and stratified sampling.**\n",
        "Sampling in statistics is the process of selecting a subset of individuals or items from a larger population to draw conclusions about the entire population. Random sampling and stratified sampling are two common methods used in this process.\n",
        "\n",
        "**Sampling:**\n",
        "\n",
        "Sampling is a statistical technique used to select a portion of a population to represent the whole. This method allows researchers to gather data and make inferences about a population without needing to survey every individual. Sampling is essential in various fields, including market research, social sciences, and health studies, as it helps reduce costs and time while still providing reliable insights.\n",
        "\n",
        "**Random Sampling:**\n",
        "\n",
        "Random sampling is a method where each member of the population has an equal chance of being selected. This technique is crucial for minimizing bias and ensuring that the sample accurately represents the population. There are several types of random sampling, including simple random sampling, systematic sampling, and cluster sampling. The key characteristics of random sampling include:\n",
        "* Equal Probability: Every individual has the same chance of being chosen.\n",
        "* Independence: The selection of one individual does not affect the selection of another.\n",
        "* Simplicity: It is straightforward to implement, especially with smaller populations.\n",
        "\n",
        "**Stratified Sampling:**\n",
        "\n",
        "Stratified sampling involves dividing the population into distinct subgroups, known as strata, based on specific characteristics (e.g., age, gender, income level). A random sample is then taken from each stratum, ensuring that all subgroups are represented in the final sample. The key characteristics of stratified sampling include:\n",
        "* Proportional Representation: Each subgroup is represented in the sample in proportion to its presence in the population.\n",
        "* Increased Precision: This method can provide more accurate estimates for each subgroup, allowing for detailed analysis of differences between them.\n",
        "* Complexity: Stratified sampling can be more complex to implement than random sampling, as it requires knowledge of the population's structure.\n",
        "\n",
        "**Key Differences Between Random and Stratified Sampling:**\n",
        "\n",
        "* Population Division: Random sampling does not divide the population into subgroups, while stratified sampling does.\n",
        "* Selection Method: In random sampling, individuals are selected entirely by chance, whereas in stratified sampling, random samples are taken from each subgroup.\n",
        "* Representation: Random sampling may not guarantee proportional representation of different groups, while stratified sampling ensures that each subgroup is adequately represented.\n",
        "* Analysis: Random sampling provides general insights about the population, while stratified sampling allows for more detailed analysis of specific subgroups.\n",
        "\n",
        "In summary, both random and stratified sampling are valuable techniques in statistics, each with its advantages and applications. Random sampling is ideal for homogeneous populations, while stratified sampling is beneficial when researchers need to account for differences among subgroups within a population."
      ],
      "metadata": {
        "id": "9WGalrFAc9pc"
      }
    },
    {
      "cell_type": "markdown",
      "source": [
        "#**3. Define mean, median, and mode. Explain why these measures of central tendency are important.**\n",
        "Mean, Median, and Mode are measures of the central tendency. These values are used to define the various parameters of the given data set. The measure of central tendency (Mean, Median, and Mode) gives useful insights about the data studied, these are used to study any type of data such as the average salary of employees in an organization, the median age of any class, the number of people who plays cricket in a sports club, etc.\n",
        "\n",
        "**Measures of Central Tendency:**\n",
        "\n",
        "The measure of central tendency is the representation of various values of the given data set. There are various measures of central tendency and the most important three measures of central tendency are:\n",
        "\n",
        "* Mean\n",
        "* Median\n",
        "* Mode\n",
        "\n",
        "**What are Mean, Median, and Mode?**\n",
        "\n",
        "The mean, median, and mode are measures of central tendency used in statistics to summarize a set of data.\n",
        "\n",
        "* Mean (x̅ or μ): The mean, or arithmetic average, is calculated by summing all the values in a dataset and dividing by the total number of values. It's sensitive to outliers and is commonly used when the data is symmetrically distributed.\n",
        "* Median (M): The median is the middle value when the dataset is arranged in ascending or descending order. If there's an even number of values, it's the average of the two middle values. The median is robust to outliers and is often used when the data is skewed.\n",
        "* Mode (Z): The mode is the value that occurs most frequently in the dataset. Unlike the mean and median, the mode can be applied to both numerical and categorical data. It's useful for identifying the most common value in a dataset.\n",
        "\n",
        "**Mean**\n",
        "\n",
        "Mean is the sum of all the values in the data set divided by the number of values in the data set. It is also called the Arithmetic Average. The Mean is denoted as x̅ and is read as x bar.\n",
        "\n",
        "\n",
        "**Mean Symbol**\n",
        "\n",
        "The symbol used to represent the mean, or arithmetic average, of a dataset is typically the Greek letter \"μ\" (mu) when referring to the population mean, and \"x̄\" (x-bar) when referring to the sample mean.\n",
        "\n",
        "* Population Mean: μ (mu)\n",
        "* Sample Mean: x̄ (x-bar)\n",
        "These symbols are commonly used in statistical notation to represent the average value of a set of data points.\n",
        "\n",
        "**Mean Formula**\n",
        "\n",
        "The formula to calculate the mean is:\n",
        "\n",
        "Mean (x̅)  = Σxi/ n\n",
        "\n",
        "If x1, x2, x3,......, xn are the values of a data set then the mean is calculated as:\n",
        "\n",
        "x̅ =  (x1 + x2 + x3 + . . . + xn) / n\n",
        "\n",
        "**Example**\n",
        "\n",
        " Find the mean of data sets 10, 30, 40, 20, and 50.\n",
        "\n",
        "**Solution**\n",
        "\n",
        "Mean of the data 10, 30, 40, 20, 50 is\n",
        "Mean = (sum of all values) / (number of values)\n",
        "Mean = (10 + 30 + 40 + 20+ 50) / 5 = 30\n",
        "\n",
        "**Mean of Grouped Data**\n",
        "\n",
        "The mean for the grouped data can be calculated by using various methods. The most common methods used are discussed in the table below:\n",
        "\n",
        "* Direct Method\n",
        "    x̅ = ∑ fixi / ∑ fi\n",
        "\n",
        "   Where,\n",
        "   ∑fi is the sum of all frequencies\n",
        "\n",
        "* Assumed Mean Method\n",
        "\n",
        "  x̅ = a + ∑ fixi / ∑ fi\n",
        "\n",
        "  Where,\n",
        "\n",
        "  a is the Assumed mean\n",
        "\n",
        "  di is equal to xi – a\n",
        "\n",
        "  ∑fi the sum of all frequencies\n",
        "\n",
        "* Step Deviation Method\n",
        "\n",
        "  x̅ = a + h∑ fixi / ∑ fi\n",
        "\n",
        "  Where,\n",
        "\n",
        "  a is the Assumed mean\n",
        "\n",
        "  ui = (xi – a)/h\n",
        "\n",
        "  h is Class size\n",
        "\n",
        "  ∑fi the sum of all frequencies\n",
        "\n",
        "**Median**\n",
        "\n",
        "A Median is a middle value for sorted data. The sorting of the data can be done either in ascending order or descending order. A median divides the data into two halves.\n",
        "\n",
        "**Median Symbol**\n",
        "\n",
        "The letter \"M\" is commonly used to represent the median of a dataset, whether it's for a population or a sample. This notation simplifies the representation of statistical concepts and calculations, making it easier to understand and apply in various contexts. Therefore, in Indian statistical practice, \"M\" is widely accepted and understood as the symbol for the median.\n",
        "\n",
        "**Median Formula**\n",
        "\n",
        "The formula for the median is:\n",
        "\n",
        "If the number of values (n value) in the data set is odd, then the formula to calculate the median is:\n",
        "\n",
        "Median = [(n + 1)/2]th term\n",
        "\n",
        "If the number of values (n value) in the data set is even, then the formula to calculate the median is:\n",
        "\n",
        "Median  = [(n/2)th term + {(n/2) + 1}th term] / 2\n",
        "\n",
        "**Example**\n",
        "\n",
        "Find the median of the the given data set 30, 40, 10, 20, and 50.\n",
        "\n",
        "**Solution**\n",
        "\n",
        "Median of the data 30, 40, 10, 20, 50 is,\n",
        "\n",
        "Step 1: Order the given data in ascending order as:\n",
        "10, 20, 30, 40, 50\n",
        "\n",
        "Step 2: Check n (number of terms of data set) is even or odd and find the median of the data with respective 'n' value.\n",
        "\n",
        "Step 3: Here, n = 5 (odd)\n",
        "\n",
        "Median = [(n + 1)/2]th term\n",
        "\n",
        "Median = [(5 + 1)/2]th term\n",
        "\n",
        "= 30\n",
        "\n",
        "**Median of Grouped Data**\n",
        "\n",
        "The median of the grouped data median is calculated using the formula,\n",
        "\n",
        "Median = l + [(n/2 - cf) / f]×h\n",
        "\n",
        "where\n",
        "\n",
        "l is the lower limit of the median class\n",
        "\n",
        "n is the number of observations\n",
        "\n",
        "f is the frequency of the median class\n",
        "\n",
        "h is class size\n",
        "\n",
        "cf is the cumulative frequency of the class preceding the median class.\n",
        "\n",
        "**Mode**\n",
        "\n",
        "A mode is the most frequent value or item of the data set. A data set can generally have one or more than one mode values. If the data set has one mode then it is called \"Uni-modal\". Similarly, if the data set contains 2 modes, then it is called \"Bimodal\" and if the data set contains 3 modes then it is known as \"Trimodal\". If the data set consists of more than one mode then it is known as \"multi-modal\"(can be bimodal or trimodal). There is no mode for a data set if every number appears only once.\n",
        "\n",
        "**Symbol of Mode**\n",
        "\n",
        "In statistical notation, the symbol \"Z\" is commonly used to represent the mode of a dataset. It indicates the value or values that occur most frequently within the dataset. This symbol is widely utilized in statistical discourse to signify the mode, enhancing clarity and precision in statistical discussions and analyses.\n",
        "\n",
        "**Mode Formula**\n",
        "\n",
        "Mode = Highest Frequency Term\n",
        "\n",
        "**Example**\n",
        "\n",
        " Find the mode of the given data set 1, 2, 2, 2, 3, 3, 4, 5.\n",
        "\n",
        "**Solution**\n",
        "\n",
        "Given set is {1, 2, 2, 2, 3, 3, 4, 5}\n",
        "\n",
        "As the above data set is arranged in ascending order.\n",
        "\n",
        "By observing the above data set we can say that,\n",
        "\n",
        "Using the formula\n",
        "Mode = Highest Frequency Term\n",
        "\n",
        "Mode = 2\n",
        "\n",
        "As, it has highest frequency (3)\n",
        "\n",
        "Mode of Grouped Data\n",
        "The mode of the grouped data is calculated using the following formula:\n",
        "\n",
        "Mode = l + [(f1 + f0) / (2f1 - f0 - f2)] × h\n",
        "\n",
        "where,\n",
        "\n",
        "f1 is the frequency of the modal class,\n",
        "\n",
        "f0 is the frequency of the class preceding the modal class,\n",
        "\n",
        "f2 is the frequency of the class succeeding the modal class,\n",
        "\n",
        "h is the size of class intervals, and\n",
        "\n",
        "l is the lower limit of the modal class.\n",
        "\n",
        "**Relation between Mean, Median, And Mode**\n",
        "\n",
        "For any group of data, the relation between the three central tendencies mean, median, and mode is shown in the image below:\n",
        "\n",
        "Mode = 3 Median – 2 Mean\n",
        "\n",
        "Mean, Median,the and Mode: Another name for this relationship is an empirical relationship. When we know the other two measures for a given set of data, this is used to find one of the measures. The LHS and RHS can be switched to rewrite this relationship in various ways.\n",
        "\n",
        "#**4. Explain skewness and kurtosis. What does a positive skew imply about the data?**\n",
        "\n",
        "Skewness and kurtosis are essential statistical measures that describe the shape and characteristics of a data distribution. They provide insights beyond basic metrics like mean and standard deviation, helping to analyze the symmetry and extremity of data.\n",
        "\n",
        "**Skewness**\n",
        "\n",
        "Skewness measures the asymmetry of a distribution. It indicates whether data points are concentrated more on one side of the mean. A perfectly symmetrical distribution has a skewness of zero.\n",
        "\n",
        "* **Positive Skewness:** The right tail is longer, indicating a concentration of data on the lower values. The order of central measures is typically: Mode < Median < Mean.\n",
        "\n",
        "* **Negative Skewness:** The left tail is longer, showing a concentration of data on the higher values. The order of central measures is: Mean < Median < Mode.\n",
        "\n",
        "Skewness is crucial for identifying deviations from normality, which can affect statistical analyses and decision-making.\n",
        "\n",
        "**Kurtosis**\n",
        "\n",
        "Kurtosis measures the tailedness or peakedness of a distribution, focusing on the extremity of values in the tails.\n",
        "\n",
        "* **Leptokurtic:** High kurtosis (>3), with heavy tails and a sharp peak, indicating more extreme values.\n",
        "\n",
        "* **Mesokurtic:** Normal kurtosis (≈3), resembling a normal distribution with moderate tails and peak.\n",
        "\n",
        "* **Platykurtic:** Low kurtosis (<3), with light tails and a flatter peak, indicating fewer extreme values.\n",
        "\n",
        "Kurtosis helps identify outliers and assess the risk or variability in data.\n",
        "\n",
        "**Practical Applications**\n",
        "\n",
        "Both skewness and kurtosis are widely used in fields like finance, data science, and research to understand data behavior. For example:\n",
        "\n",
        "Skewness helps detect biases in income distributions or stock returns.\n",
        "\n",
        "Kurtosis identifies datasets with extreme outliers, aiding in risk assessment.\n",
        "\n",
        "Understanding these measures enables better data interpretation and more accurate statistical modeling.\n",
        "\n",
        "#**5.  Implement a Python program to compute the mean, median, and mode of a given list of numbers.**\n",
        "#**numbers = [12, 15, 12, 18, 19, 12, 20, 22, 19, 19, 24, 24, 24, 26, 28]**\n",
        "\n",
        "\n"
      ],
      "metadata": {
        "id": "tg9y3HAPc9Wp"
      }
    },
    {
      "cell_type": "code",
      "source": [
        "numbers = [12, 15, 12, 18, 19, 12, 20, 22, 19, 19, 24, 24, 24, 26, 28]\n",
        "import numpy as np\n",
        "mean_output = np.mean(numbers)\n",
        "print( \"Mean of the numbers is:\", mean_output)\n",
        "median_output = np.median(numbers)\n",
        "print( \"Median of the numbers is:\", median_output)\n",
        "from scipy import stats\n",
        "mode_output = stats.mode(numbers)\n",
        "print( \"Mode of the numbers is:\", mode_output)"
      ],
      "metadata": {
        "colab": {
          "base_uri": "https://localhost:8080/"
        },
        "id": "iSi9KeRul_eo",
        "outputId": "97b1fa4e-b9cb-4f8d-e5e1-a91911dd095a"
      },
      "execution_count": 9,
      "outputs": [
        {
          "output_type": "stream",
          "name": "stdout",
          "text": [
            "Mean of the numbers is: 19.6\n",
            "Median of the numbers is: 19.0\n",
            "Mode of the numbers is: ModeResult(mode=np.int64(12), count=np.int64(3))\n"
          ]
        }
      ]
    },
    {
      "cell_type": "markdown",
      "source": [
        "#**6. Compute the covariance and correlation coefficient between the following two datasets provided as lists in Python: list_x = [10, 20, 30, 40, 50] list_y = [15, 25, 35, 45, 60]**"
      ],
      "metadata": {
        "id": "n3vd0WWqmN53"
      }
    },
    {
      "cell_type": "code",
      "source": [
        "import numpy as np\n",
        "list_x = [10, 20, 30, 40, 50]\n",
        "list_y = [15, 25, 35, 45, 60]\n",
        "x = np.array(list_x)\n",
        "y = np.array(list_y)\n",
        "cov_matrix = np.cov(x,y,bias=False)\n",
        "cov_xy = cov_matrix[0,1]\n",
        "corr_matrix = np.corrcoef(x,y)\n",
        "corr_xy = corr_matrix[0,1]\n",
        "print(\"List X:\",list_x)\n",
        "print(\"List Y:\",list_y)\n",
        "print(\"Covariance of x and y is:\", cov_xy)\n",
        "print(\"Correlation coefficient of x and y is:\", corr_xy)"
      ],
      "metadata": {
        "colab": {
          "base_uri": "https://localhost:8080/"
        },
        "id": "LHxpFpINmL8V",
        "outputId": "4f8530f1-1098-4522-a895-a73ef14e66a7"
      },
      "execution_count": 11,
      "outputs": [
        {
          "output_type": "stream",
          "name": "stdout",
          "text": [
            "List X: [10, 20, 30, 40, 50]\n",
            "List Y: [15, 25, 35, 45, 60]\n",
            "Covariance of x and y is: 275.0\n",
            "Correlation coefficient of x and y is: 0.995893206467704\n"
          ]
        }
      ]
    },
    {
      "cell_type": "markdown",
      "source": [
        "#**7. Write a Python script to draw a boxplot for the following numeric list and identify its outliers. Explain the result: data = [12, 14, 14, 15, 18, 19, 19, 21, 22, 22, 23, 23, 24, 26, 29, 35]**\n",
        "\n"
      ],
      "metadata": {
        "id": "EKsY1adzmbt0"
      }
    },
    {
      "cell_type": "code",
      "source": [
        "import matplotlib.pyplot as plt\n",
        "import numpy as np\n",
        "data = [12, 14, 14, 15, 18, 19, 19, 21, 22, 22, 23, 23, 24, 26, 29, 35]\n",
        "#creating a boxplot\n",
        "plt.boxplot(data,vert=True,patch_artist=True,notch=True)\n",
        "plt.title(\"Boxplot of the given data\")\n",
        "plt.ylabel(\"Values\")\n",
        "plt.show()\n",
        "#Identifying outliers using IQR method\n",
        "Q1 = np.percentile(data,25)\n",
        "Q3 = np.percentile(data,75)\n",
        "IQR = Q3 - Q1\n",
        "#Lower and upper bounds\n",
        "lower_bound = Q1 - 1.5 * IQR\n",
        "upper_bound = Q3 + 1.5 * IQR\n",
        "#Detecting outliers\n",
        "outliers = [x for x in data if x < lower_bound or x > upper_bound]\n",
        "print(\"Data:\",data)\n",
        "print(\"Q1(25th percentile):\",Q1)\n",
        "print(\"Q3(75th percentile):\",Q3)\n",
        "print(\"IQR:\",IQR)\n",
        "print(\"Lower bound:\",lower_bound)\n",
        "print(\"Upper bound:\",upper_bound)\n",
        "print(\"Outliers:\",outliers)"
      ],
      "metadata": {
        "colab": {
          "base_uri": "https://localhost:8080/",
          "height": 573
        },
        "id": "3uWEfPgWpGGe",
        "outputId": "013d24fc-4405-4103-c2df-3cd2bbdb5262"
      },
      "execution_count": 13,
      "outputs": [
        {
          "output_type": "display_data",
          "data": {
            "text/plain": [
              "<Figure size 640x480 with 1 Axes>"
            ],
            "image/png": "[encoded data removed]"
          },
          "metadata": {}
        },
        {
          "output_type": "stream",
          "name": "stdout",
          "text": [
            "Data: [12, 14, 14, 15, 18, 19, 19, 21, 22, 22, 23, 23, 24, 26, 29, 35]\n",
            "Q1(25th percentile): 17.25\n",
            "Q3(75th percentile): 23.25\n",
            "IQR: 6.0\n",
            "Lower bound: 8.25\n",
            "Upper bound: 32.25\n",
            "Outliers: [35]\n"
          ]
        }
      ]
    },
    {
      "cell_type": "markdown",
      "source": [
        "#**8. You are working as a data analyst in an e-commerce company. The marketing team wants to know if there is a relationship between advertising spend and daily sales. ● Explain how you would use covariance and correlation to explore this relationship. ● Write Python code to compute the correlation between the two lists: advertising_spend = [200, 250, 300, 400, 500]   daily_sales = [2200, 2450, 2750, 3200, 4000]**\n"
      ],
      "metadata": {
        "id": "LhzqSb4ntw_q"
      }
    },
    {
      "cell_type": "markdown",
      "source": [
        "Covariance\n",
        "\n",
        "*  Measures how two variables change together.\n",
        "* Positive covariance → as advertising spend increases, sales tend to increase.\n",
        "* Negative covariance → as advertising spend increases, sales tend to decrease.\n",
        "* Covariance magnitude is not standardized, so it’s hard to compare across datasets.\n",
        "Correlation Coefficient (Pearson correlation)\n",
        "* Standardizes covariance to a value between -1 and 1.\n",
        "* Close to 1 → strong positive relationship\n",
        "* Close to -1 → strong negative relationship\n",
        "* Close to 0 → weak or no linear relationship"
      ],
      "metadata": {
        "id": "rUsU4e090PyP"
      }
    },
    {
      "cell_type": "code",
      "source": [
        "# Import required library\n",
        "import numpy as np\n",
        "# Given data\n",
        "advertising_spend = [200, 250, 300, 400, 500]\n",
        "daily_sales = [2200, 2450, 2750, 3200, 4000]\n",
        "# Convert to numpy arrays\n",
        "x = np.array(advertising_spend)\n",
        "y = np.array(daily_sales)\n",
        "# Compute covariance\n",
        "cov_matrix = np.cov(x, y, bias=False)\n",
        "# Sample covariance\n",
        "cov_xy = cov_matrix[0, 1]\n",
        "# Compute correlation coefficient\n",
        "corr_matrix = np.corrcoef(x, y)\n",
        "corr_xy = corr_matrix[0, 1]\n",
        "# Display results\n",
        "print(\"Advertising Spend:\", advertising_spend)\n",
        "print(\"Daily Sales:\", daily_sales)\n",
        "print(\"Covariance:\", cov_xy)\n",
        "print(\"Correlation Coefficient:\", corr_xy)\n"
      ],
      "metadata": {
        "colab": {
          "base_uri": "https://localhost:8080/"
        },
        "id": "Ifr2EqtBzSRs",
        "outputId": "5f4f2879-a406-4796-a534-06880f6255ef"
      },
      "execution_count": 14,
      "outputs": [
        {
          "output_type": "stream",
          "name": "stdout",
          "text": [
            "Advertising Spend: [200, 250, 300, 400, 500]\n",
            "Daily Sales: [2200, 2450, 2750, 3200, 4000]\n",
            "Covariance: 84875.0\n",
            "Correlation Coefficient: 0.9935824101653329\n"
          ]
        }
      ]
    },
    {
      "cell_type": "markdown",
      "source": [
        "#**9. Your team has collected customer satisfaction survey data on a scale of 1-10 and wants to understand its distribution before launching a new product. ● Explain which summary statistics and visualizations (e.g. mean, standard deviation, histogram) you’d use. ● Write Python code to create a histogram using Matplotlib for the survey data: survey_scores = [7, 8, 5, 9, 6, 7, 8, 9, 10, 4, 7, 6, 9, 8, 7]**"
      ],
      "metadata": {
        "id": "FQ9BwK3_1i4F"
      }
    },
    {
      "cell_type": "markdown",
      "source": [
        "Before launching a new product, it is important to understand the distribution of\n",
        "customer satisfaction scores. We can use:\n",
        "1. Summary Statistics:\n",
        "*  Mean: Average satisfaction score.\n",
        "*  Median: Middle score, useful if data is skewed.\n",
        "* Standard Deviation: Measures how spread out the scores are.\n",
        "* Mode: Most frequently occurring score.\n",
        "2. Visualizations:\n",
        "* Histogram: Shows frequency distribution of scores.\n",
        "* Boxplot: Detects outliers and shows spread.\n",
        "* Bar Chart: Can show counts of each score."
      ],
      "metadata": {
        "id": "NOcSIPqU2AZC"
      }
    },
    {
      "cell_type": "code",
      "source": [
        "# Import required libraries\n",
        "import matplotlib.pyplot as plt\n",
        "import numpy as np\n",
        "# Survey data\n",
        "survey_scores = [7, 8, 5, 9, 6, 7, 8, 9, 10, 4, 7, 6, 9, 8, 7]\n",
        "# Summary statistics\n",
        "mean_score = np.mean(survey_scores)\n",
        "median_score = np.median(survey_scores)\n",
        "std_dev = np.std(survey_scores, ddof=1)  # Sample standard deviation\n",
        "mode_score = max(set(survey_scores), key=survey_scores.count)\n",
        "print(\"Mean:\", mean_score)\n",
        "print(\"Median:\", median_score)\n",
        "print(\"Standard Deviation:\", std_dev)\n",
        "print(\"Mode:\", mode_score)\n",
        "# Create histogram\n",
        "plt.hist(survey_scores, bins=range(4, 12), edgecolor='black', color='skyblue')\n",
        "plt.title(\"Histogram of Customer Satisfaction Scores\")\n",
        "plt.xlabel(\"Survey Scores\")\n",
        "plt.ylabel(\"Frequency\")\n",
        "plt.xticks(range(4, 11))\n",
        "plt.show()\n"
      ],
      "metadata": {
        "colab": {
          "base_uri": "https://localhost:8080/",
          "height": 541
        },
        "id": "4aGMNQmq12pZ",
        "outputId": "a33fce19-3008-4ca3-95f5-51c0525e6177"
      },
      "execution_count": 15,
      "outputs": [
        {
          "output_type": "stream",
          "name": "stdout",
          "text": [
            "Mean: 7.333333333333333\n",
            "Median: 7.0\n",
            "Standard Deviation: 1.632993161855452\n",
            "Mode: 7\n"
          ]
        },
        {
          "output_type": "display_data",
          "data": {
            "text/plain": [
              "<Figure size 640x480 with 1 Axes>"
            ],
            "image/png": "[encoded data removed]"
          },
          "metadata": {}
        }
      ]
    }
  ]
}